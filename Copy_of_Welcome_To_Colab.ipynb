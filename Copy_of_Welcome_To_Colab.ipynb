{
  "cells": [
    {
      "cell_type": "markdown",
      "metadata": {
        "id": "view-in-github",
        "colab_type": "text"
      },
      "source": [
        "<a href=\"https://colab.research.google.com/github/kingrapture/5m-data-entry-test/blob/main/Copy_of_Welcome_To_Colab.ipynb\" target=\"_parent\"><img src=\"https://colab.research.google.com/assets/colab-badge.svg\" alt=\"Open In Colab\"/></a>"
      ]
    },
    {
      "cell_type": "markdown",
      "metadata": {
        "id": "5fCEDCU_qrC0"
      },
      "source": [
        "<div class=\"markdown-google-sans\">\n",
        "  <h2>What is Colab?</h2>\n",
        "</div>\n",
        "\n",
        "Colab, or \"Colaboratory\", allows you to write and execute Python in your browser, with\n",
        "- Zero configuration required\n",
        "- Access to GPUs free of charge\n",
        "- Easy sharing\n",
        "\n",
        "Whether you're a **student**, a **data scientist** or an **AI researcher**, Colab can make your work easier. Watch [Introduction to Colab](https://www.youtube.com/watch?v=inN8seMm7UI) or [Colab Features You May Have Missed](https://www.youtube.com/watch?v=rNgswRZ2C1Y) to learn more, or just get started below!"
      ]
    },
    {
      "cell_type": "markdown",
      "metadata": {
        "id": "GJBs_flRovLc"
      },
      "source": [
        "<div class=\"markdown-google-sans\">\n",
        "\n",
        "## **Getting started**\n",
        "</div>\n",
        "\n",
        "The document you are reading is not a static web page, but an interactive environment called a **Colab notebook** that lets you write and execute code.\n",
        "\n",
        "For example, here is a **code cell** with a short Python script that computes a value, stores it in a variable, and prints the result:"
      ]
    },
    {
      "cell_type": "code",
      "execution_count": null,
      "metadata": {
        "id": "gJr_9dXGpJ05",
        "outputId": "abb5542b-2e42-426a-da60-e19117a93b40",
        "colab": {
          "base_uri": "https://localhost:8080/"
        }
      },
      "outputs": [
        {
          "output_type": "execute_result",
          "data": {
            "text/plain": [
              "86400"
            ]
          },
          "metadata": {},
          "execution_count": 1
        }
      ],
      "source": [
        "seconds_in_a_day = 24 * 60 * 60\n",
        "seconds_in_a_day"
      ]
    },
    {
      "cell_type": "markdown",
      "metadata": {
        "id": "2fhs6GZ4qFMx"
      },
      "source": [
        "To execute the code in the above cell, select it with a click and then either press the play button to the left of the code, or use the keyboard shortcut \"Command/Ctrl+Enter\". To edit the code, just click the cell and start editing.\n",
        "\n",
        "Variables that you define in one cell can later be used in other cells:"
      ]
    },
    {
      "cell_type": "code",
      "execution_count": null,
      "metadata": {
        "id": "-gE-Ez1qtyIA",
        "outputId": "4e69eb8a-3fbd-4efd-fd79-49f4b1b21361",
        "colab": {
          "base_uri": "https://localhost:8080/"
        }
      },
      "outputs": [
        {
          "output_type": "execute_result",
          "data": {
            "text/plain": [
              "604800"
            ]
          },
          "metadata": {},
          "execution_count": 2
        }
      ],
      "source": [
        "seconds_in_a_week = 7 * seconds_in_a_day\n",
        "seconds_in_a_week"
      ]
    },
    {
      "cell_type": "markdown",
      "metadata": {
        "id": "lSrWNr3MuFUS"
      },
      "source": [
        "Colab notebooks allow you to combine **executable code** and **rich text** in a single document, along with **images**, **HTML**, **LaTeX** and more. When you create your own Colab notebooks, they are stored in your Google Drive account. You can easily share your Colab notebooks with co-workers or friends, allowing them to comment on your notebooks or even edit them. To learn more, see [Overview of Colab](/notebooks/basic_features_overview.ipynb). To create a new Colab notebook you can use the File menu above, or use the following link: [create a new Colab notebook](http://colab.research.google.com#create=true).\n",
        "\n",
        "Colab notebooks are Jupyter notebooks that are hosted by Colab. To learn more about the Jupyter project, see [jupyter.org](https://www.jupyter.org)."
      ]
    },
    {
      "cell_type": "markdown",
      "metadata": {
        "id": "UdRyKR44dcNI"
      },
      "source": [
        "<div class=\"markdown-google-sans\">\n",
        "\n",
        "## Data science\n",
        "</div>\n",
        "\n",
        "With Colab you can harness the full power of popular Python libraries to analyze and visualize data. The code cell below uses **numpy** to generate some random data, and uses **matplotlib** to visualize it. To edit the code, just click the cell and start editing."
      ]
    },
    {
      "cell_type": "markdown",
      "source": [],
      "metadata": {
        "id": "D2Dgcn7Yum2b"
      }
    },
    {
      "cell_type": "code",
      "source": [
        "print(\"Hello,World\")"
      ],
      "metadata": {
        "colab": {
          "base_uri": "https://localhost:8080/"
        },
        "id": "h0JlcBbbunt6",
        "outputId": "f81d3667-7276-482c-965c-a7d7f73f962a"
      },
      "execution_count": null,
      "outputs": [
        {
          "output_type": "stream",
          "name": "stdout",
          "text": [
            "Hello,World\n"
          ]
        }
      ]
    },
    {
      "cell_type": "code",
      "source": [
        "print(True and True)\n",
        "print(True and False)\n",
        "print(False and True)\n",
        "print(False and False)"
      ],
      "metadata": {
        "colab": {
          "base_uri": "https://localhost:8080/"
        },
        "id": "poUJt55SKn55",
        "outputId": "4cded5ee-1085-40ee-f7fb-df8c4b8debff"
      },
      "execution_count": null,
      "outputs": [
        {
          "output_type": "stream",
          "name": "stdout",
          "text": [
            "True\n",
            "False\n",
            "False\n",
            "False\n"
          ]
        }
      ]
    },
    {
      "cell_type": "code",
      "source": [
        "y = True and False\n",
        "y = 10 and 4"
      ],
      "metadata": {
        "id": "kwa-gvS68tYP"
      },
      "execution_count": null,
      "outputs": []
    },
    {
      "cell_type": "code",
      "source": [
        "height = 1.88\n",
        "weight = 68\n",
        "bmi = weight / height ** 2\n",
        "print(bmi)"
      ],
      "metadata": {
        "colab": {
          "base_uri": "https://localhost:8080/"
        },
        "id": "czPZVvtrRejo",
        "outputId": "1f20e9af-8955-4621-d0cb-8197b8838618"
      },
      "execution_count": null,
      "outputs": [
        {
          "output_type": "stream",
          "name": "stdout",
          "text": [
            "19.23947487550928\n"
          ]
        }
      ]
    },
    {
      "cell_type": "markdown",
      "source": [
        "1. List\n",
        "2. Tuple\n",
        "3. Sets\n",
        "4. Dictionary\n"
      ],
      "metadata": {
        "id": "r9dzHGtk76JW"
      }
    },
    {
      "cell_type": "markdown",
      "source": [],
      "metadata": {
        "id": "Aa1lF1czuzbw"
      }
    },
    {
      "cell_type": "code",
      "source": [
        "# LIST\n",
        "# []\n",
        "# lists can contains multiple datatypes\n",
        "list1 = [\"apple\",\"orange\",\"banana\"]\n",
        "print(list1)"
      ],
      "metadata": {
        "colab": {
          "base_uri": "https://localhost:8080/"
        },
        "id": "lD9mKofYuy9R",
        "outputId": "ea573850-7cec-4701-daed-8fa03ad47194"
      },
      "execution_count": null,
      "outputs": [
        {
          "output_type": "stream",
          "name": "stdout",
          "text": [
            "['apple', 'orange', 'banana']\n"
          ]
        }
      ]
    },
    {
      "cell_type": "code",
      "source": [
        "a =[1,2,3,0,0,0,5,6,6,7,9,5,3,2]\n",
        "len(a)"
      ],
      "metadata": {
        "colab": {
          "base_uri": "https://localhost:8080/"
        },
        "id": "GybbH_dkBE7i",
        "outputId": "af3a4cb8-8741-431b-ff8a-eb3d551fa4c0"
      },
      "execution_count": null,
      "outputs": [
        {
          "output_type": "execute_result",
          "data": {
            "text/plain": [
              "14"
            ]
          },
          "metadata": {},
          "execution_count": 7
        }
      ]
    },
    {
      "cell_type": "markdown",
      "source": [
        "list[starting:ending:stepsize]"
      ],
      "metadata": {
        "id": "fxr3COieBunV"
      }
    },
    {
      "cell_type": "code",
      "source": [
        "name =input (\"Enter your name\")\n",
        "age =int(input (\"Enter your age\"))\n",
        "if age >= 18:\n",
        "  print(f\"{name} is eligible to vote\")\n",
        "else:\n",
        "  print(f\"{name} is not eligible to vote\")"
      ],
      "metadata": {
        "colab": {
          "base_uri": "https://localhost:8080/"
        },
        "id": "wMJVwIyPB4f0",
        "outputId": "ccc33616-088d-4a00-b1fa-eb2525193aa7"
      },
      "execution_count": null,
      "outputs": [
        {
          "output_type": "stream",
          "name": "stdout",
          "text": [
            "Enter your name willy\n",
            "Enter your age 18\n",
            " willy is eligible to vote\n"
          ]
        }
      ]
    },
    {
      "cell_type": "code",
      "source": [],
      "metadata": {
        "id": "GtauFppnB4Uh"
      },
      "execution_count": null,
      "outputs": []
    },
    {
      "cell_type": "markdown",
      "metadata": {
        "id": "4_kCnsPUqS6o"
      },
      "source": [
        "You can import your own data into Colab notebooks from your Google Drive account, including from spreadsheets, as well as from Github and many other sources. To learn more about importing data, and how Colab can be used for data science, see the links below under [Working with Data](#working-with-data)."
      ]
    },
    {
      "cell_type": "code",
      "execution_count": null,
      "metadata": {
        "colab": {
          "height": 333,
          "base_uri": "https://localhost:8080/"
        },
        "id": "C4HZx7Gndbrh",
        "outputId": "4e8bba43-cb5c-406d-c2bf-226fa6666e80"
      },
      "outputs": [
        {
          "output_type": "display_data",
          "data": {
            "text/plain": [
              "<IPython.core.display.Markdown object>"
            ],
            "text/markdown": "![Sample Visualization](data:image/png;base64,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)"
          },
          "metadata": {}
        }
      ],
      "source": [
        "import numpy as np\n",
        "import IPython.display as display\n",
        "from matplotlib import pyplot as plt\n",
        "import io\n",
        "import base64\n",
        "\n",
        "ys = 200 + np.random.randn(100)\n",
        "x = [x for x in range(len(ys))]\n",
        "\n",
        "fig = plt.figure(figsize=(4, 3), facecolor='w')\n",
        "plt.plot(x, ys, '-')\n",
        "plt.fill_between(x, ys, 195, where=(ys > 195), facecolor='g', alpha=0.6)\n",
        "plt.title(\"Sample Visualization\", fontsize=10)\n",
        "\n",
        "data = io.BytesIO()\n",
        "plt.savefig(data)\n",
        "image = F\"data:image/png;base64,{base64.b64encode(data.getvalue()).decode()}\"\n",
        "alt = \"Sample Visualization\"\n",
        "display.display(display.Markdown(F\"\"\"![{alt}]({image})\"\"\"))\n",
        "plt.close(fig)"
      ]
    },
    {
      "cell_type": "markdown",
      "metadata": {
        "id": "VYV91hbKwP2J"
      },
      "source": [
        "Colab notebooks execute code on Google's cloud servers, meaning you can leverage the power of Google hardware, including [GPUs and TPUs](#using-accelerated-hardware), regardless of the power of your machine. All you need is a browser.\n",
        "\n",
        "For example, if you find yourself waiting for **pandas** code to finish running and want to go faster, you can switch to a GPU Runtime and use libraries like [RAPIDS cuDF](https://rapids.ai/cudf-pandas) that provide zero-code-change acceleration."
      ]
    },
    {
      "cell_type": "markdown",
      "metadata": {
        "id": "vwnNlNIEwoZ8"
      },
      "source": [
        "To learn more about accelerating pandas on Colab, see the [10 minute guide](https://colab.research.google.com/github/rapidsai-community/showcase/blob/main/getting_started_tutorials/cudf_pandas_colab_demo.ipynb) or\n",
        " [US stock market data analysis demo](https://colab.research.google.com/github/rapidsai-community/showcase/blob/main/getting_started_tutorials/cudf_pandas_stocks_demo.ipynb)."
      ]
    },
    {
      "cell_type": "markdown",
      "metadata": {
        "id": "OwuxHmxllTwN"
      },
      "source": [
        "<div class=\"markdown-google-sans\">\n",
        "\n",
        "## Machine learning\n",
        "</div>\n",
        "\n",
        "With Colab you can import an image dataset, train an image classifier on it, and evaluate the model, all in just [a few lines of code](https://colab.research.google.com/github/tensorflow/docs/blob/master/site/en/tutorials/quickstart/beginner.ipynb)."
      ]
    },
    {
      "cell_type": "markdown",
      "metadata": {
        "id": "ufxBm1yRnruN"
      },
      "source": [
        "Colab is used extensively in the machine learning community with applications including:\n",
        "- Getting started with TensorFlow\n",
        "- Developing and training neural networks\n",
        "- Experimenting with TPUs\n",
        "- Disseminating AI research\n",
        "- Creating tutorials\n",
        "\n",
        "To see sample Colab notebooks that demonstrate machine learning applications, see the [machine learning examples](#machine-learning-examples) below."
      ]
    },
    {
      "cell_type": "markdown",
      "metadata": {
        "id": "-Rh3-Vt9Nev9"
      },
      "source": [
        "<div class=\"markdown-google-sans\">\n",
        "\n",
        "## More Resources\n",
        "\n",
        "### Working with Notebooks in Colab\n",
        "\n",
        "</div>\n",
        "\n",
        "- [Overview of Colab](/notebooks/basic_features_overview.ipynb)\n",
        "- [Guide to Markdown](/notebooks/markdown_guide.ipynb)\n",
        "- [Importing libraries and installing dependencies](/notebooks/snippets/importing_libraries.ipynb)\n",
        "- [Saving and loading notebooks in GitHub](https://colab.research.google.com/github/googlecolab/colabtools/blob/main/notebooks/colab-github-demo.ipynb)\n",
        "- [Interactive forms](/notebooks/forms.ipynb)\n",
        "- [Interactive widgets](/notebooks/widgets.ipynb)\n",
        "\n",
        "<div class=\"markdown-google-sans\">\n",
        "\n",
        "<a name=\"working-with-data\"></a>\n",
        "### Working with Data\n",
        "</div>\n",
        "\n",
        "- [Loading data: Drive, Sheets, and Google Cloud Storage](/notebooks/io.ipynb)\n",
        "- [Charts: visualizing data](/notebooks/charts.ipynb)\n",
        "- [Getting started with BigQuery](/notebooks/bigquery.ipynb)\n",
        "\n",
        "<div class=\"markdown-google-sans\">\n",
        "\n",
        "### Machine Learning\n",
        "\n",
        "<div>\n",
        "\n",
        "These are a few of the notebooks related to Machine Learning, including Google's online Machine Learning course. See the [full course website](https://developers.google.com/machine-learning/crash-course/) for more.\n",
        "- [Intro to Pandas DataFrame](https://colab.research.google.com/github/google/eng-edu/blob/main/ml/cc/exercises/pandas_dataframe_ultraquick_tutorial.ipynb)\n",
        "- [Intro to RAPIDS cuDF to accelerate pandas](https://nvda.ws/rapids-cudf)\n",
        "- [Getting Started with cuML's accelerator mode](https://colab.research.google.com/github/rapidsai-community/showcase/blob/main/getting_started_tutorials/cuml_sklearn_colab_demo.ipynb)\n",
        "- [Linear regression with tf.keras using synthetic data](https://colab.research.google.com/github/google/eng-edu/blob/main/ml/cc/exercises/linear_regression_with_synthetic_data.ipynb)\n",
        "\n",
        "<div class=\"markdown-google-sans\">\n",
        "\n",
        "<a name=\"using-accelerated-hardware\"></a>\n",
        "### Using Accelerated Hardware\n",
        "</div>\n",
        "\n",
        "- [TensorFlow with GPUs](/notebooks/gpu.ipynb)\n",
        "- [TPUs in Colab](/notebooks/tpu.ipynb)"
      ]
    },
    {
      "cell_type": "markdown",
      "metadata": {
        "id": "P-H6Lw1vyNNd"
      },
      "source": [
        "<div class=\"markdown-google-sans\">\n",
        "\n",
        "<a name=\"machine-learning-examples\"></a>\n",
        "\n",
        "### Featured examples\n",
        "\n",
        "</div>\n",
        "\n",
        "- [Retraining an Image Classifier](https://tensorflow.org/hub/tutorials/tf2_image_retraining): Build a Keras model on top of a pre-trained image classifier to distinguish flowers.\n",
        "- [Text Classification](https://tensorflow.org/hub/tutorials/tf2_text_classification): Classify IMDB movie reviews as either *positive* or *negative*.\n",
        "- [Style Transfer](https://tensorflow.org/hub/tutorials/tf2_arbitrary_image_stylization): Use deep learning to transfer style between images.\n",
        "- [Multilingual Universal Sentence Encoder Q&A](https://tensorflow.org/hub/tutorials/retrieval_with_tf_hub_universal_encoder_qa): Use a machine learning model to answer questions from the SQuAD dataset.\n",
        "- [Video Interpolation](https://tensorflow.org/hub/tutorials/tweening_conv3d): Predict what happened in a video between the first and the last frame.\n"
      ]
    },
    {
      "cell_type": "code",
      "source": [],
      "metadata": {
        "id": "qXo0mSZbufkd"
      },
      "execution_count": null,
      "outputs": []
    }
  ],
  "metadata": {
    "colab": {
      "toc_visible": true,
      "provenance": [],
      "include_colab_link": true
    },
    "kernelspec": {
      "display_name": "Python 3",
      "name": "python3"
    }
  },
  "nbformat": 4,
  "nbformat_minor": 0
}